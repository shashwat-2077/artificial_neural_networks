{
 "cells": [
  {
   "cell_type": "markdown",
   "id": "57af7b34",
   "metadata": {},
   "source": [
    "Implementing the McCulloch-Pitts artificial neuron in code is very simple thanks to the features offered by libraries of high-level programming languages that are available today. We can do this in four steps using python and numpy:"
   ]
  },
  {
   "cell_type": "markdown",
   "id": "8740f2ef",
   "metadata": {},
   "source": [
    "Step 1: generate a vector of inputs and a vector of weights"
   ]
  },
  {
   "cell_type": "code",
   "execution_count": 1,
   "id": "10235451",
   "metadata": {},
   "outputs": [
    {
     "name": "stdout",
     "output_type": "stream",
     "text": [
      "Input vector:[0 1 1], Weight vector:[-1  1  1]\n"
     ]
    }
   ],
   "source": [
    "import numpy as np\n",
    "np.random.seed(seed=0)\n",
    "I = np.random.choice([0,1], 3)# generate random vector I, sampling from {0,1}\n",
    "W = np.random.choice([-1,1], 3) # generate random vector W, sampling from {-1,1} \n",
    "print(f'Input vector:{I}, Weight vector:{W}')"
   ]
  },
  {
   "cell_type": "markdown",
   "id": "8d0413a6",
   "metadata": {},
   "source": [
    "Step 2: compute the dot product between the vector of inputs and weights"
   ]
  },
  {
   "cell_type": "code",
   "execution_count": 3,
   "id": "e54e060c",
   "metadata": {},
   "outputs": [
    {
     "name": "stdout",
     "output_type": "stream",
     "text": [
      "Dot product: 2\n"
     ]
    }
   ],
   "source": [
    "dot = I @ W\n",
    "print(f'Dot product: {dot}')"
   ]
  },
  {
   "cell_type": "markdown",
   "id": "9ac34774",
   "metadata": {},
   "source": [
    "Step 3: define the threshold activation function"
   ]
  },
  {
   "cell_type": "code",
   "execution_count": 4,
   "id": "c6df70c2",
   "metadata": {},
   "outputs": [],
   "source": [
    "def linear_threshold_gate(dot: int, T: float) -> int:\n",
    "    '''Returns the binary threshold output'''\n",
    "    if dot >= T:\n",
    "        return 1\n",
    "    else:\n",
    "        return 0"
   ]
  },
  {
   "cell_type": "markdown",
   "id": "08fbfffd",
   "metadata": {},
   "source": [
    "Step 4: compute the output based on the threshold value"
   ]
  },
  {
   "cell_type": "code",
   "execution_count": 5,
   "id": "38d086a1",
   "metadata": {},
   "outputs": [
    {
     "name": "stdout",
     "output_type": "stream",
     "text": [
      "Activation: 1\n"
     ]
    }
   ],
   "source": [
    "T = 1\n",
    "activation = linear_threshold_gate(dot, T)\n",
    "print(f'Activation: {activation}')"
   ]
  },
  {
   "cell_type": "markdown",
   "id": "7f14fef2",
   "metadata": {},
   "source": [
    "In the previous example, the threshold was set to T=1. Since Sum=2, the neuron fires. If we increase the threshold for firing to T=3, the neuron will not fire."
   ]
  },
  {
   "cell_type": "code",
   "execution_count": 6,
   "id": "f53c48cc",
   "metadata": {},
   "outputs": [
    {
     "name": "stdout",
     "output_type": "stream",
     "text": [
      "Activation: 0\n"
     ]
    }
   ],
   "source": [
    "T = 3\n",
    "activation = linear_threshold_gate(dot, T)\n",
    "print(f'Activation: {activation}')"
   ]
  },
  {
   "cell_type": "markdown",
   "id": "586249c1",
   "metadata": {},
   "source": [
    "# The AND Function"
   ]
  },
  {
   "cell_type": "code",
   "execution_count": 7,
   "id": "0ddfbff3",
   "metadata": {},
   "outputs": [
    {
     "name": "stdout",
     "output_type": "stream",
     "text": [
      "input table:\n",
      "[[0 0]\n",
      " [0 1]\n",
      " [1 0]\n",
      " [1 1]]\n"
     ]
    }
   ],
   "source": [
    "# Step 1: generate a vector of inputs and a vector of weights\n",
    "# matrix of inputs\n",
    "input_table = np.array([\n",
    "    [0,0], # both no\n",
    "    [0,1], # one no, one yes\n",
    "    [1,0], # one yes, one no\n",
    "    [1,1]  # bot yes\n",
    "])\n",
    "\n",
    "print(f'input table:\\n{input_table}')"
   ]
  },
  {
   "cell_type": "code",
   "execution_count": 8,
   "id": "5febe2e5",
   "metadata": {},
   "outputs": [
    {
     "name": "stdout",
     "output_type": "stream",
     "text": [
      "weights: [1 1]\n"
     ]
    }
   ],
   "source": [
    "# array of weights\n",
    "weights = np.array([1,1])\n",
    "print(f'weights: {weights}')"
   ]
  },
  {
   "cell_type": "code",
   "execution_count": 9,
   "id": "370539aa",
   "metadata": {},
   "outputs": [
    {
     "name": "stdout",
     "output_type": "stream",
     "text": [
      "Dot products: [0 1 1 2]\n"
     ]
    }
   ],
   "source": [
    "# Step 2: compute the dot product between the matrix of inputs and weights\n",
    "# dot product matrix of inputs and weights\n",
    "dot_products = input_table @ weights\n",
    "print(f'Dot products: {dot_products}')"
   ]
  },
  {
   "cell_type": "code",
   "execution_count": 10,
   "id": "19adbb1c",
   "metadata": {},
   "outputs": [],
   "source": [
    "# Step 3: define the threshold activation function\n",
    "# We defined this already, so we will reuse our linear_threshold_gate function"
   ]
  },
  {
   "cell_type": "code",
   "execution_count": 11,
   "id": "603fa452",
   "metadata": {},
   "outputs": [
    {
     "name": "stdout",
     "output_type": "stream",
     "text": [
      "Activation: 0\n",
      "Activation: 0\n",
      "Activation: 0\n",
      "Activation: 1\n"
     ]
    }
   ],
   "source": [
    "T = 2\n",
    "for i in range(0,4):\n",
    "    activation = linear_threshold_gate(dot_products[i], T)\n",
    "    print(f'Activation: {activation}')"
   ]
  },
  {
   "cell_type": "code",
   "execution_count": 13,
   "id": "6f434278",
   "metadata": {},
   "outputs": [],
   "source": [
    "# As expected, only the last movie, with Samuel L. Jackson as an actor and Quentin Tarantino as director, resulted in the neuron firing."
   ]
  },
  {
   "cell_type": "markdown",
   "id": "e996f9c9",
   "metadata": {},
   "source": [
    "# The OR Function"
   ]
  },
  {
   "cell_type": "markdown",
   "id": "35655e52",
   "metadata": {},
   "source": [
    "Step 1: generate a vector of inputs and a vector of weights\n",
    "Neither the matrix of inputs nor the array of weights changes, so we can reuse our input_table and weights vector.\n",
    "\n",
    "Step 2: compute the dot product between the matrix of inputs and weights\n",
    "Since neither the matrix of inputs nor the vector of weights changes, the dot product of those stays the same.\n",
    "\n",
    "Step 3: define the threshold activation function\n",
    "We can use the linear_threshold_gate function again.\n",
    "\n",
    "Step 4: compute the output based on the threshold value\n"
   ]
  },
  {
   "cell_type": "code",
   "execution_count": 14,
   "id": "10e7b09a",
   "metadata": {},
   "outputs": [
    {
     "name": "stdout",
     "output_type": "stream",
     "text": [
      "Activation: 0\n",
      "Activation: 1\n",
      "Activation: 1\n",
      "Activation: 1\n"
     ]
    }
   ],
   "source": [
    "T = 1\n",
    "for i in range(0,4):\n",
    "    activation = linear_threshold_gate(dot_products[i], T)\n",
    "    print(f'Activation: {activation}')"
   ]
  },
  {
   "cell_type": "code",
   "execution_count": 15,
   "id": "ee084985",
   "metadata": {},
   "outputs": [],
   "source": [
    "# As you can probably appreciate by now, the only thing we needed to change was the threshold value, and the expected behavior is obtained."
   ]
  },
  {
   "cell_type": "markdown",
   "id": "44035dbb",
   "metadata": {},
   "source": [
    "# The NOR function"
   ]
  },
  {
   "cell_type": "markdown",
   "id": "7bb862aa",
   "metadata": {},
   "source": [
    "Step 1: generate a vector of inputs and a vector of weights\n",
    "The matrix of inputs remain the same, but we need a new vector of weights"
   ]
  },
  {
   "cell_type": "code",
   "execution_count": 16,
   "id": "8fcd67cb",
   "metadata": {},
   "outputs": [
    {
     "name": "stdout",
     "output_type": "stream",
     "text": [
      "weights: [-1 -1]\n"
     ]
    }
   ],
   "source": [
    "# array of weights\n",
    "weights = np.array([-1,-1])\n",
    "print(f'weights: {weights}')"
   ]
  },
  {
   "cell_type": "code",
   "execution_count": 17,
   "id": "1edb8bfe",
   "metadata": {},
   "outputs": [
    {
     "name": "stdout",
     "output_type": "stream",
     "text": [
      "Dot products: [ 0 -1 -1 -2]\n"
     ]
    }
   ],
   "source": [
    "# Step 2: compute the dot product between the matrix of inputs and weights\n",
    "# dot product matrix of inputs and weights\n",
    "dot_products = input_table @ weights\n",
    "print(f'Dot products: {dot_products}')"
   ]
  },
  {
   "cell_type": "code",
   "execution_count": 18,
   "id": "1922458d",
   "metadata": {},
   "outputs": [],
   "source": [
    "# Step 3: define the threshold activation function\n",
    "# The function remains the same.\n",
    "\n",
    "# Step 4: compute the output based on the threshold value"
   ]
  },
  {
   "cell_type": "code",
   "execution_count": 19,
   "id": "4c6c1636",
   "metadata": {},
   "outputs": [
    {
     "name": "stdout",
     "output_type": "stream",
     "text": [
      "Activation: 1\n",
      "Activation: 0\n",
      "Activation: 0\n",
      "Activation: 0\n"
     ]
    }
   ],
   "source": [
    "T = 0\n",
    "for i in range(0,4):\n",
    "    activation = linear_threshold_gate(dot_products[i], T)\n",
    "    print(f'Activation: {activation}')"
   ]
  },
  {
   "cell_type": "code",
   "execution_count": null,
   "id": "803bf16d",
   "metadata": {},
   "outputs": [],
   "source": []
  }
 ],
 "metadata": {
  "kernelspec": {
   "display_name": "Python 3 (ipykernel)",
   "language": "python",
   "name": "python3"
  },
  "language_info": {
   "codemirror_mode": {
    "name": "ipython",
    "version": 3
   },
   "file_extension": ".py",
   "mimetype": "text/x-python",
   "name": "python",
   "nbconvert_exporter": "python",
   "pygments_lexer": "ipython3",
   "version": "3.9.13"
  }
 },
 "nbformat": 4,
 "nbformat_minor": 5
}
