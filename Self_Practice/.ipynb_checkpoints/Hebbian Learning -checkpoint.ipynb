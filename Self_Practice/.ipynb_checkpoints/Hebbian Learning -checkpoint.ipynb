{
 "cells": [
  {
   "cell_type": "markdown",
   "id": "83458dd2",
   "metadata": {},
   "source": [
    "# Hebb Learning in Python"
   ]
  },
  {
   "cell_type": "markdown",
   "id": "cd7de3a1",
   "metadata": {},
   "source": [
    "Python implementation of Hebbian Learning on AND, OR, XOR logic gates.\n",
    "\n",
    "# Algorithm\n",
    "Hebbian Algorithm from page 49 of “Fundamentals of NN” by Fausset\n",
    "Step 0. Initialize all weights:\n",
    "    wi = 0 (i = 1 to n).\n",
    "Step 1. For each input training vector and target output pair, s:t, do steps 2-4.\n",
    "    Step 2. Set activations for input units:\n",
    "        xi = Si (i = 1 to n)\n",
    "    Step 3. Set activation for output unit:\n",
    "        y = t\n",
    "    Step 4. Adjust the weights for xi\n",
    "        wi(new) = wi(old) + xiy (i = 1 to n)\n",
    "        Adjust the bias:\n",
    "        b(new) = b(old) + y"
   ]
  },
  {
   "cell_type": "markdown",
   "id": "0d48f990",
   "metadata": {},
   "source": [
    "# Code"
   ]
  },
  {
   "cell_type": "code",
   "execution_count": 1,
   "id": "902de6ab",
   "metadata": {},
   "outputs": [],
   "source": [
    "def hebbian_learning(samples):\n",
    "     print(f'{\"INPUT\":^8} {\"TARGET\":^16}{\"WEIGHT CHANGES\":^15}{\"WEIGHTS\":^25}')\n",
    "     w1, w2, b = 0, 0, 0\n",
    "     print(' ' * 45, f'({w1:2}, {w2:2}, {b:2})')\n",
    "     for x1, x2, y in samples:\n",
    "         w1 = w1 + x1 * y\n",
    "         w2 = w2 + x2 * y\n",
    "         b = b + y\n",
    "         print(f'({x1:2}, {x2:2}) {y:2} ({x1y:2}, {x2y:2}, {y:2}) ({w1:2}, {w2:2}, {b:2})')"
   ]
  },
  {
   "cell_type": "markdown",
   "id": "0e99d7b0",
   "metadata": {},
   "source": [
    "# Define Inputs"
   ]
  },
  {
   "cell_type": "code",
   "execution_count": 2,
   "id": "0f87aedf",
   "metadata": {},
   "outputs": [],
   "source": [
    "AND_samples = {\n",
    "    'binary_input_binary_output': [\n",
    "        [1, 1, 1],\n",
    "        [1, 0, 0],\n",
    "        [0, 1, 0],\n",
    "        [0, 0, 0]\n",
    "    ],\n",
    "    'binary_input_bipolar_output': [\n",
    "        [1, 1, 1],\n",
    "        [1, 0, -1],\n",
    "        [0, 1, -1],\n",
    "        [0, 0, -1]\n",
    "    ],\n",
    "    'bipolar_input_bipolar_output': [\n",
    "        [ 1, 1, 1],\n",
    "        [ 1, -1, -1],\n",
    "        [-1, 1, -1],\n",
    "        [-1, -1, -1]\n",
    "    ]\n",
    "}\n",
    "OR_samples = {\n",
    "    'binary_input_binary_output': [\n",
    "        [1, 1, 1],\n",
    "        [1, 0, 1],\n",
    "        [0, 1, 1],\n",
    "        [0, 0, 0]\n",
    "    ],\n",
    "    'binary_input_bipolar_output': [\n",
    "        [1, 1, 1],\n",
    "        [1, 0, 1],\n",
    "        [0, 1, 1],\n",
    "        [0, 0, -1]\n",
    "    ],\n",
    "    'bipolar_input_bipolar_output': [\n",
    "        [ 1, 1, 1],\n",
    "        [ 1, -1, 1],\n",
    "        [-1, 1, 1],\n",
    "        [-1, -1, -1]\n",
    "    ]\n",
    "}\n",
    "XOR_samples = {\n",
    "    'binary_input_binary_output': [\n",
    "        [1, 1, 0],\n",
    "        [1, 0, 1],\n",
    "        [0, 1, 1],\n",
    "        [0, 0, 0]\n",
    "    ],\n",
    "    'binary_input_bipolar_output': [\n",
    "        [1, 1, -1],\n",
    "        [1, 0, 1],\n",
    "        [0, 1, 1],\n",
    "        [0, 0, -1]\n",
    "    ],\n",
    "    'bipolar_input_bipolar_output': [\n",
    "        [ 1, 1, -1],\n",
    "        [ 1, -1, 1],\n",
    "        [-1, 1, 1],\n",
    "        [-1, -1, -1]\n",
    "    ]\n",
    "}"
   ]
  },
  {
   "cell_type": "markdown",
   "id": "7b3c24cf",
   "metadata": {},
   "source": [
    "# Test Code with Output"
   ]
  },
  {
   "cell_type": "code",
   "execution_count": 5,
   "id": "7b406768",
   "metadata": {},
   "outputs": [
    {
     "name": "stdout",
     "output_type": "stream",
     "text": [
      "AND with Binary Input and Binary Output\n",
      " INPUT        TARGET     WEIGHT CHANGES          WEIGHTS         \n",
      "                                              ( 0,  0,  0)\n"
     ]
    },
    {
     "ename": "NameError",
     "evalue": "name 'x1y' is not defined",
     "output_type": "error",
     "traceback": [
      "\u001b[1;31m---------------------------------------------------------------------------\u001b[0m",
      "\u001b[1;31mNameError\u001b[0m                                 Traceback (most recent call last)",
      "\u001b[1;32m~\\AppData\\Local\\Temp\\ipykernel_1496\\1519106943.py\u001b[0m in \u001b[0;36m<module>\u001b[1;34m\u001b[0m\n\u001b[0;32m      1\u001b[0m \u001b[1;31m# print(\"\"'-'20, 'HEBBIAN LEARNING', '-'20\")\u001b[0m\u001b[1;33m\u001b[0m\u001b[1;33m\u001b[0m\u001b[0m\n\u001b[0;32m      2\u001b[0m \u001b[0mprint\u001b[0m\u001b[1;33m(\u001b[0m\u001b[1;34m'AND with Binary Input and Binary Output'\u001b[0m\u001b[1;33m)\u001b[0m\u001b[1;33m\u001b[0m\u001b[1;33m\u001b[0m\u001b[0m\n\u001b[1;32m----> 3\u001b[1;33m \u001b[0mhebbian_learning\u001b[0m\u001b[1;33m(\u001b[0m\u001b[0mAND_samples\u001b[0m\u001b[1;33m[\u001b[0m\u001b[1;34m'binary_input_binary_output'\u001b[0m\u001b[1;33m]\u001b[0m\u001b[1;33m)\u001b[0m\u001b[1;33m\u001b[0m\u001b[1;33m\u001b[0m\u001b[0m\n\u001b[0m\u001b[0;32m      4\u001b[0m \u001b[0mprint\u001b[0m\u001b[1;33m(\u001b[0m\u001b[1;34m'AND with Binary Input and Bipolar Output'\u001b[0m\u001b[1;33m)\u001b[0m\u001b[1;33m\u001b[0m\u001b[1;33m\u001b[0m\u001b[0m\n\u001b[0;32m      5\u001b[0m \u001b[0mhebbian_learning\u001b[0m\u001b[1;33m(\u001b[0m\u001b[0mAND_samples\u001b[0m\u001b[1;33m[\u001b[0m\u001b[1;34m'binary_input_bipolar_output'\u001b[0m\u001b[1;33m]\u001b[0m\u001b[1;33m)\u001b[0m\u001b[1;33m\u001b[0m\u001b[1;33m\u001b[0m\u001b[0m\n",
      "\u001b[1;32m~\\AppData\\Local\\Temp\\ipykernel_1496\\2345282338.py\u001b[0m in \u001b[0;36mhebbian_learning\u001b[1;34m(samples)\u001b[0m\n\u001b[0;32m      7\u001b[0m          \u001b[0mw2\u001b[0m \u001b[1;33m=\u001b[0m \u001b[0mw2\u001b[0m \u001b[1;33m+\u001b[0m \u001b[0mx2\u001b[0m \u001b[1;33m*\u001b[0m \u001b[0my\u001b[0m\u001b[1;33m\u001b[0m\u001b[1;33m\u001b[0m\u001b[0m\n\u001b[0;32m      8\u001b[0m          \u001b[0mb\u001b[0m \u001b[1;33m=\u001b[0m \u001b[0mb\u001b[0m \u001b[1;33m+\u001b[0m \u001b[0my\u001b[0m\u001b[1;33m\u001b[0m\u001b[1;33m\u001b[0m\u001b[0m\n\u001b[1;32m----> 9\u001b[1;33m          \u001b[0mprint\u001b[0m\u001b[1;33m(\u001b[0m\u001b[1;34mf'({x1:2}, {x2:2}) {y:2} ({x1y:2}, {x2y:2}, {y:2}) ({w1:2}, {w2:2}, {b:2})'\u001b[0m\u001b[1;33m)\u001b[0m\u001b[1;33m\u001b[0m\u001b[1;33m\u001b[0m\u001b[0m\n\u001b[0m",
      "\u001b[1;31mNameError\u001b[0m: name 'x1y' is not defined"
     ]
    }
   ],
   "source": [
    "# print(\"\"'-'20, 'HEBBIAN LEARNING', '-'20\")\n",
    "print('AND with Binary Input and Binary Output')\n",
    "hebbian_learning(AND_samples['binary_input_binary_output'])\n",
    "print('AND with Binary Input and Bipolar Output')\n",
    "hebbian_learning(AND_samples['binary_input_bipolar_output'])\n",
    "print('AND with Bipolar Input and Bipolar Output')\n",
    "hebbian_learning(AND_samples['bipolar_input_bipolar_output'])"
   ]
  },
  {
   "cell_type": "code",
   "execution_count": null,
   "id": "fda99bf1",
   "metadata": {},
   "outputs": [],
   "source": [
    "print('-'20, 'HEBBIAN LEARNING', '-'20)\n",
    "print('OR with binary input and binary output')\n",
    "hebbian_learning(OR_samples['binary_input_binary_output'])\n",
    "print('OR with binary input and bipolar output')\n",
    "hebbian_learning(OR_samples['binary_input_bipolar_output'])\n",
    "print('OR with bipolar input and bipolar output')\n",
    "hebbian_learning(OR_samples['bipolar_input_bipolar_output'])"
   ]
  },
  {
   "cell_type": "code",
   "execution_count": null,
   "id": "79141e63",
   "metadata": {},
   "outputs": [],
   "source": [
    "print('-'20, 'HEBBIAN LEARNING', '-'20)\n",
    "print('XOR with binary input and binary output')\n",
    "hebbian_learning(XOR_samples['binary_input_binary_output'])\n",
    "print('XOR with binary input and bipolar output')\n",
    "hebbian_learning(XOR_samples['binary_input_bipolar_output'])\n",
    "print('XOR with bipolar input and bipolar output')\n",
    "hebbian_learning(XOR_samples['bipolar_input_bipolar_output'])"
   ]
  }
 ],
 "metadata": {
  "kernelspec": {
   "display_name": "Python 3 (ipykernel)",
   "language": "python",
   "name": "python3"
  },
  "language_info": {
   "codemirror_mode": {
    "name": "ipython",
    "version": 3
   },
   "file_extension": ".py",
   "mimetype": "text/x-python",
   "name": "python",
   "nbconvert_exporter": "python",
   "pygments_lexer": "ipython3",
   "version": "3.9.13"
  }
 },
 "nbformat": 4,
 "nbformat_minor": 5
}
